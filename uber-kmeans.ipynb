{
 "cells": [
  {
   "cell_type": "code",
   "execution_count": 1,
   "metadata": {},
   "outputs": [
    {
     "data": {
      "application/javascript": [
       "if (!(\"Notification\" in window)) {\n",
       "    alert(\"This browser does not support desktop notifications, so the %%notify magic will not work.\");\n",
       "} else if (Notification.permission !== 'granted' && Notification.permission !== 'denied') {\n",
       "    Notification.requestPermission(function (permission) {\n",
       "        if(!('permission' in Notification)) {\n",
       "            Notification.permission = permission;\n",
       "        }\n",
       "    })\n",
       "}\n"
      ],
      "text/plain": [
       "<IPython.core.display.Javascript object>"
      ]
     },
     "metadata": {},
     "output_type": "display_data"
    }
   ],
   "source": [
    "%load_ext jupyternotify"
   ]
  },
  {
   "cell_type": "code",
   "execution_count": 2,
   "metadata": {},
   "outputs": [],
   "source": [
    "from os import getcwd\n",
    "from os.path import join\n",
    "\n",
    "import random\n",
    "import numpy as np\n",
    "import pandas as pd\n",
    "import matplotlib.pyplot as plt\n",
    "import seaborn as sns\n",
    "import plotly.express as px\n",
    "import matplotlib.cm as cm\n",
    "\n",
    "from sklearn.preprocessing import StandardScaler\n",
    "from sklearn.cluster import KMeans, MiniBatchKMeans, DBSCAN\n",
    "from sklearn.neighbors import NearestNeighbors\n",
    "from sklearn.datasets import make_blobs\n",
    "from sklearn.metrics import silhouette_samples, silhouette_score"
   ]
  },
  {
   "cell_type": "code",
   "execution_count": 3,
   "metadata": {},
   "outputs": [],
   "source": [
    "random.seed(42)"
   ]
  },
  {
   "cell_type": "code",
   "execution_count": 4,
   "metadata": {},
   "outputs": [],
   "source": [
    "work_dir = getcwd()\n",
    "data_dir = join(work_dir, \"data\")\n",
    "image_dir = join(work_dir, \"images\")"
   ]
  },
  {
   "cell_type": "code",
   "execution_count": 5,
   "metadata": {},
   "outputs": [],
   "source": [
    "uber_base = {\n",
    "    \"B02512\": \"Unter\",\n",
    "    \"B02598\": \"Hinter\",\n",
    "    \"B02617\": \"Weiter\",\n",
    "    \"B02682\": \"Schmecken\",\n",
    "    \"B02764\": \"Danach-NY\",\n",
    "    \"B02765\": \"Grun\",\n",
    "    \"B02835\": \"Dreist\",\n",
    "    \"B02836\": \"Drinnen\"\n",
    "}"
   ]
  },
  {
   "cell_type": "code",
   "execution_count": 6,
   "metadata": {},
   "outputs": [],
   "source": [
    "# liste des fichiers de pickup\n",
    "uber_pickup_files = {\n",
    "    \"April\": \"uber-raw-data-apr14.csv\",\n",
    "    \"May\": \"uber-raw-data-may14.csv\",\n",
    "    \"June\": \"uber-raw-data-jun14.csv\",\n",
    "    \"July\": \"uber-raw-data-jul14.csv\",\n",
    "    \"August\": \"uber-raw-data-aug14.csv\",\n",
    "    \"September\": \"uber-raw-data-sep14.csv\"\n",
    "}"
   ]
  },
  {
   "cell_type": "code",
   "execution_count": 7,
   "metadata": {},
   "outputs": [],
   "source": [
    "files = []\n",
    "for f in uber_pickup_files.values():\n",
    "    files.append(pd.read_csv(join(data_dir, f)))\n",
    "uber = pd.concat(files, ignore_index=True)"
   ]
  },
  {
   "cell_type": "code",
   "execution_count": 8,
   "metadata": {},
   "outputs": [
    {
     "data": {
      "text/plain": [
       "(4534327, 4)"
      ]
     },
     "execution_count": 8,
     "metadata": {},
     "output_type": "execute_result"
    }
   ],
   "source": [
    "uber.shape"
   ]
  },
  {
   "cell_type": "code",
   "execution_count": 9,
   "metadata": {},
   "outputs": [
    {
     "data": {
      "text/html": [
       "<div>\n",
       "<style scoped>\n",
       "    .dataframe tbody tr th:only-of-type {\n",
       "        vertical-align: middle;\n",
       "    }\n",
       "\n",
       "    .dataframe tbody tr th {\n",
       "        vertical-align: top;\n",
       "    }\n",
       "\n",
       "    .dataframe thead th {\n",
       "        text-align: right;\n",
       "    }\n",
       "</style>\n",
       "<table border=\"1\" class=\"dataframe\">\n",
       "  <thead>\n",
       "    <tr style=\"text-align: right;\">\n",
       "      <th></th>\n",
       "      <th>Date/Time</th>\n",
       "      <th>Lat</th>\n",
       "      <th>Lon</th>\n",
       "      <th>Base</th>\n",
       "    </tr>\n",
       "  </thead>\n",
       "  <tbody>\n",
       "    <tr>\n",
       "      <th>4534322</th>\n",
       "      <td>9/30/2014 22:57:00</td>\n",
       "      <td>40.7668</td>\n",
       "      <td>-73.9845</td>\n",
       "      <td>B02764</td>\n",
       "    </tr>\n",
       "    <tr>\n",
       "      <th>4534323</th>\n",
       "      <td>9/30/2014 22:57:00</td>\n",
       "      <td>40.6911</td>\n",
       "      <td>-74.1773</td>\n",
       "      <td>B02764</td>\n",
       "    </tr>\n",
       "    <tr>\n",
       "      <th>4534324</th>\n",
       "      <td>9/30/2014 22:58:00</td>\n",
       "      <td>40.8519</td>\n",
       "      <td>-73.9319</td>\n",
       "      <td>B02764</td>\n",
       "    </tr>\n",
       "    <tr>\n",
       "      <th>4534325</th>\n",
       "      <td>9/30/2014 22:58:00</td>\n",
       "      <td>40.7081</td>\n",
       "      <td>-74.0066</td>\n",
       "      <td>B02764</td>\n",
       "    </tr>\n",
       "    <tr>\n",
       "      <th>4534326</th>\n",
       "      <td>9/30/2014 22:58:00</td>\n",
       "      <td>40.7140</td>\n",
       "      <td>-73.9496</td>\n",
       "      <td>B02764</td>\n",
       "    </tr>\n",
       "  </tbody>\n",
       "</table>\n",
       "</div>"
      ],
      "text/plain": [
       "                  Date/Time      Lat      Lon    Base\n",
       "4534322  9/30/2014 22:57:00  40.7668 -73.9845  B02764\n",
       "4534323  9/30/2014 22:57:00  40.6911 -74.1773  B02764\n",
       "4534324  9/30/2014 22:58:00  40.8519 -73.9319  B02764\n",
       "4534325  9/30/2014 22:58:00  40.7081 -74.0066  B02764\n",
       "4534326  9/30/2014 22:58:00  40.7140 -73.9496  B02764"
      ]
     },
     "execution_count": 9,
     "metadata": {},
     "output_type": "execute_result"
    }
   ],
   "source": [
    "uber.tail()"
   ]
  },
  {
   "cell_type": "code",
   "execution_count": null,
   "metadata": {},
   "outputs": [],
   "source": [
    "quantile_list = [0, .25, .5, .75, 1.]\n",
    "\n",
    "def quantile_labels(feature_quantiles):\n",
    "    \"\"\"\n",
    "    return the list of the feature quantiles labels\n",
    "    \"\"\"\n",
    "    return [f\"{int(feature_quantiles.iloc[q])}-{int(feature_quantiles.iloc[q+1])}\" for q in range(len(feature_quantiles) - 1)]"
   ]
  },
  {
   "cell_type": "code",
   "execution_count": 10,
   "metadata": {},
   "outputs": [],
   "source": [
    "columns = [\"Lat\", \"Lon\", \"Weekday\", \"Hour\"]\n",
    "\n",
    "def preprocessing(df):\n",
    "    \n",
    "    X = df.copy()\n",
    "    \n",
    "    X[\"Date/Time\"] = pd.to_datetime(X[\"Date/Time\"], infer_datetime_format=True)\n",
    "    X[\"Month\"] = X[\"Date/Time\"].dt.month\n",
    "    X[\"Weekday\"] = X[\"Date/Time\"].dt.weekday\n",
    "    X[\"Hour\"] = X[\"Date/Time\"].dt.hour\n",
    "    X[\"Location\"] = [[a, b] for a, b in zip(X[\"Lat\"].values, X[\"Lon\"].values)]\n",
    "     \n",
    "    return X"
   ]
  },
  {
   "cell_type": "code",
   "execution_count": 11,
   "metadata": {},
   "outputs": [],
   "source": [
    "uber = preprocessing(uber)"
   ]
  },
  {
   "cell_type": "code",
   "execution_count": 12,
   "metadata": {},
   "outputs": [
    {
     "name": "stdout",
     "output_type": "stream",
     "text": [
      "<class 'pandas.core.frame.DataFrame'>\n",
      "RangeIndex: 4534327 entries, 0 to 4534326\n",
      "Data columns (total 8 columns):\n",
      " #   Column     Dtype         \n",
      "---  ------     -----         \n",
      " 0   Date/Time  datetime64[ns]\n",
      " 1   Lat        float64       \n",
      " 2   Lon        float64       \n",
      " 3   Base       object        \n",
      " 4   Month      int64         \n",
      " 5   Weekday    int64         \n",
      " 6   Hour       int64         \n",
      " 7   Location   object        \n",
      "dtypes: datetime64[ns](1), float64(2), int64(3), object(2)\n",
      "memory usage: 276.8+ MB\n"
     ]
    }
   ],
   "source": [
    "uber.info()"
   ]
  },
  {
   "cell_type": "code",
   "execution_count": 14,
   "metadata": {},
   "outputs": [
    {
     "data": {
      "text/html": [
       "<div>\n",
       "<style scoped>\n",
       "    .dataframe tbody tr th:only-of-type {\n",
       "        vertical-align: middle;\n",
       "    }\n",
       "\n",
       "    .dataframe tbody tr th {\n",
       "        vertical-align: top;\n",
       "    }\n",
       "\n",
       "    .dataframe thead th {\n",
       "        text-align: right;\n",
       "    }\n",
       "</style>\n",
       "<table border=\"1\" class=\"dataframe\">\n",
       "  <thead>\n",
       "    <tr style=\"text-align: right;\">\n",
       "      <th></th>\n",
       "      <th>Date/Time</th>\n",
       "      <th>Lat</th>\n",
       "      <th>Lon</th>\n",
       "      <th>Base</th>\n",
       "      <th>Month</th>\n",
       "      <th>Weekday</th>\n",
       "      <th>Hour</th>\n",
       "      <th>Location</th>\n",
       "    </tr>\n",
       "  </thead>\n",
       "  <tbody>\n",
       "    <tr>\n",
       "      <th>0</th>\n",
       "      <td>2014-04-01 00:11:00</td>\n",
       "      <td>40.7690</td>\n",
       "      <td>-73.9549</td>\n",
       "      <td>B02512</td>\n",
       "      <td>4</td>\n",
       "      <td>1</td>\n",
       "      <td>0</td>\n",
       "      <td>[40.769, -73.9549]</td>\n",
       "    </tr>\n",
       "    <tr>\n",
       "      <th>1</th>\n",
       "      <td>2014-04-01 00:17:00</td>\n",
       "      <td>40.7267</td>\n",
       "      <td>-74.0345</td>\n",
       "      <td>B02512</td>\n",
       "      <td>4</td>\n",
       "      <td>1</td>\n",
       "      <td>0</td>\n",
       "      <td>[40.7267, -74.0345]</td>\n",
       "    </tr>\n",
       "    <tr>\n",
       "      <th>2</th>\n",
       "      <td>2014-04-01 00:21:00</td>\n",
       "      <td>40.7316</td>\n",
       "      <td>-73.9873</td>\n",
       "      <td>B02512</td>\n",
       "      <td>4</td>\n",
       "      <td>1</td>\n",
       "      <td>0</td>\n",
       "      <td>[40.7316, -73.9873]</td>\n",
       "    </tr>\n",
       "    <tr>\n",
       "      <th>3</th>\n",
       "      <td>2014-04-01 00:28:00</td>\n",
       "      <td>40.7588</td>\n",
       "      <td>-73.9776</td>\n",
       "      <td>B02512</td>\n",
       "      <td>4</td>\n",
       "      <td>1</td>\n",
       "      <td>0</td>\n",
       "      <td>[40.7588, -73.9776]</td>\n",
       "    </tr>\n",
       "    <tr>\n",
       "      <th>4</th>\n",
       "      <td>2014-04-01 00:33:00</td>\n",
       "      <td>40.7594</td>\n",
       "      <td>-73.9722</td>\n",
       "      <td>B02512</td>\n",
       "      <td>4</td>\n",
       "      <td>1</td>\n",
       "      <td>0</td>\n",
       "      <td>[40.7594, -73.9722]</td>\n",
       "    </tr>\n",
       "  </tbody>\n",
       "</table>\n",
       "</div>"
      ],
      "text/plain": [
       "            Date/Time      Lat      Lon    Base  Month  Weekday  Hour  \\\n",
       "0 2014-04-01 00:11:00  40.7690 -73.9549  B02512      4        1     0   \n",
       "1 2014-04-01 00:17:00  40.7267 -74.0345  B02512      4        1     0   \n",
       "2 2014-04-01 00:21:00  40.7316 -73.9873  B02512      4        1     0   \n",
       "3 2014-04-01 00:28:00  40.7588 -73.9776  B02512      4        1     0   \n",
       "4 2014-04-01 00:33:00  40.7594 -73.9722  B02512      4        1     0   \n",
       "\n",
       "              Location  \n",
       "0   [40.769, -73.9549]  \n",
       "1  [40.7267, -74.0345]  \n",
       "2  [40.7316, -73.9873]  \n",
       "3  [40.7588, -73.9776]  \n",
       "4  [40.7594, -73.9722]  "
      ]
     },
     "execution_count": 14,
     "metadata": {},
     "output_type": "execute_result"
    }
   ],
   "source": [
    "uber.head()"
   ]
  },
  {
   "cell_type": "code",
   "execution_count": 15,
   "metadata": {},
   "outputs": [
    {
     "data": {
      "text/plain": [
       "0.0015640689345960271"
      ]
     },
     "execution_count": 15,
     "metadata": {},
     "output_type": "execute_result"
    }
   ],
   "source": [
    "# combien de localisation différente\n",
    "\n",
    "uber[\"Lat\"].nunique() / uber.shape[0]"
   ]
  },
  {
   "cell_type": "code",
   "execution_count": 16,
   "metadata": {},
   "outputs": [
    {
     "data": {
      "text/plain": [
       "0.002525843416233545"
      ]
     },
     "execution_count": 16,
     "metadata": {},
     "output_type": "execute_result"
    }
   ],
   "source": [
    "uber[\"Lon\"].nunique() / uber.shape[0]"
   ]
  },
  {
   "cell_type": "markdown",
   "metadata": {},
   "source": [
    "### Variables non corrélées"
   ]
  },
  {
   "cell_type": "code",
   "execution_count": 17,
   "metadata": {},
   "outputs": [
    {
     "data": {
      "image/png": "[encoded data removed]",
      "text/plain": [
       "<Figure size 432x288 with 2 Axes>"
      ]
     },
     "metadata": {
      "needs_background": "light"
     },
     "output_type": "display_data"
    }
   ],
   "source": [
    "sns.heatmap(uber.corr(), annot=True);"
   ]
  },
  {
   "cell_type": "markdown",
   "metadata": {},
   "source": [
    "### Bornage des coordonées pour récupérer une carte"
   ]
  },
  {
   "cell_type": "code",
   "execution_count": 18,
   "metadata": {},
   "outputs": [
    {
     "data": {
      "text/plain": [
       "Lat    39.6569\n",
       "Lon   -74.9290\n",
       "dtype: float64"
      ]
     },
     "execution_count": 18,
     "metadata": {},
     "output_type": "execute_result"
    }
   ],
   "source": [
    "uber[[\"Lat\", \"Lon\"]].min()"
   ]
  },
  {
   "cell_type": "code",
   "execution_count": 19,
   "metadata": {},
   "outputs": [
    {
     "data": {
      "text/plain": [
       "Lat    42.1166\n",
       "Lon   -72.0666\n",
       "dtype: float64"
      ]
     },
     "execution_count": 19,
     "metadata": {},
     "output_type": "execute_result"
    }
   ],
   "source": [
    "uber[[\"Lat\", \"Lon\"]].max()"
   ]
  },
  {
   "cell_type": "markdown",
   "metadata": {},
   "source": [
    "### Echantillonage pour garder de la marge computationnelle"
   ]
  },
  {
   "cell_type": "markdown",
   "metadata": {},
   "source": [
    "### Calcul de la taille de l'échantillon\n",
    "\n",
    "Pour une marge d'erreur m de 1% et z correspondant à un niveau de confiance de 99% et en prenant le p le moins favorable\n",
    "\n",
    "n = z² x p ( 1 – p ) / m²"
   ]
  },
  {
   "cell_type": "code",
   "execution_count": 181,
   "metadata": {},
   "outputs": [
    {
     "name": "stdout",
     "output_type": "stream",
     "text": [
      "La taille minimale de l'échantillon est de 16589\n"
     ]
    }
   ],
   "source": [
    "m = 0.01\n",
    "z = 2.576\n",
    "p = 0.5\n",
    "n = z**2 * p * (1 - p) / m**2\n",
    "print(f\"La taille minimale de l'échantillon est de {n:.0f}\")"
   ]
  },
  {
   "cell_type": "code",
   "execution_count": 21,
   "metadata": {},
   "outputs": [],
   "source": [
    "# on restreint le nombre d'individus à 100000\n",
    "\n",
    "X = uber.values\n",
    "np.random.shuffle(X)\n",
    "X = X[np.random.randint(0, X.shape[0], 100000)]"
   ]
  },
  {
   "cell_type": "code",
   "execution_count": 22,
   "metadata": {},
   "outputs": [],
   "source": [
    "X = pd.DataFrame(X, columns=uber.columns)"
   ]
  },
  {
   "cell_type": "code",
   "execution_count": 76,
   "metadata": {},
   "outputs": [
    {
     "data": {
      "image/png": "[encoded data removed]",
      "text/plain": [
       "<Figure size 864x576 with 1 Axes>"
      ]
     },
     "metadata": {
      "needs_background": "light"
     },
     "output_type": "display_data"
    }
   ],
   "source": [
    "fig, ax = plt.subplots(figsize=(12, 8))\n",
    "sns.scatterplot(data=X, x=\"Lon\", y=\"Lat\", hue=\"Month\", ax=ax);\n",
    "#fig.savefig(join(image_dir, \"coordinates_by_month.png\"), transparent=False, dpi=80, bbox_inches=\"tight\")"
   ]
  },
  {
   "cell_type": "markdown",
   "metadata": {},
   "source": [
    "##### On garde les variables continues et on standardise"
   ]
  },
  {
   "cell_type": "code",
   "execution_count": 23,
   "metadata": {},
   "outputs": [],
   "source": [
    "sc_X = StandardScaler()\n",
    "X_st = sc_X.fit_transform(X[columns])"
   ]
  },
  {
   "cell_type": "markdown",
   "metadata": {},
   "source": [
    "### Recherche du nombre de cluster optimal"
   ]
  },
  {
   "cell_type": "code",
   "execution_count": 84,
   "metadata": {},
   "outputs": [
    {
     "data": {
      "image/png": "[encoded data removed]",
      "text/plain": [
       "<Figure size 864x576 with 1 Axes>"
      ]
     },
     "metadata": {
      "needs_background": "light"
     },
     "output_type": "display_data"
    },
    {
     "data": {
      "application/javascript": [
       "$(document).ready(\n",
       "    function() {\n",
       "        function appendUniqueDiv(){\n",
       "            // append a div with our uuid so we can check that it's already\n",
       "            // been sent and avoid duplicates on page reload\n",
       "            var notifiedDiv = document.createElement(\"div\")\n",
       "            notifiedDiv.id = \"0eac0a8d-4a36-4dda-b536-a6b9bb8194b6\"\n",
       "            element.append(notifiedDiv)\n",
       "        }\n",
       "\n",
       "        // only send notifications if the pageload is complete; this will\n",
       "        // help stop extra notifications when a saved notebook is loaded,\n",
       "        // which during testing gives us state \"interactive\", not \"complete\"\n",
       "        if (document.readyState === 'complete') {\n",
       "            // check for the div that signifies that the notification\n",
       "            // was already sent\n",
       "            if (document.getElementById(\"0eac0a8d-4a36-4dda-b536-a6b9bb8194b6\") === null) {\n",
       "                var notificationPayload = {\"requireInteraction\": false, \"icon\": \"/static/base/images/favicon.ico\", \"body\": \"Elbow termin\\u00e9\"};\n",
       "                if (Notification.permission !== 'denied') {\n",
       "                    if (Notification.permission !== 'granted') { \n",
       "                        Notification.requestPermission(function (permission) {\n",
       "                            if(!('permission' in Notification)) {\n",
       "                                Notification.permission = permission\n",
       "                            }\n",
       "                        })\n",
       "                    }\n",
       "                    if (Notification.permission === 'granted') {\n",
       "                    var notification = new Notification(\"Jupyter Notebook\", notificationPayload)\n",
       "                    appendUniqueDiv()\n",
       "                    notification.onclick = function () {\n",
       "                        window.focus();\n",
       "                        this.close();\n",
       "                        };\n",
       "                    } \n",
       "                }     \n",
       "            }\n",
       "        }\n",
       "    }\n",
       ")\n"
      ],
      "text/plain": [
       "<IPython.core.display.Javascript object>"
      ]
     },
     "metadata": {},
     "output_type": "display_data"
    }
   ],
   "source": [
    "%%notify -m \"Elbow terminé\"\n",
    "\n",
    "# créer une boucle pour stocker les inerties calculées pour chaque kmeans en itérant sur le nombre de cluster\n",
    "\n",
    "n_clusters = 10\n",
    "\n",
    "wcss = []\n",
    "for i in range (1, n_clusters): \n",
    "    kmeans = KMeans(n_clusters= i, init = \"k-means++\", max_iter = 300, n_init = 10)\n",
    "    kmeans.fit(X_st)\n",
    "    wcss.append(kmeans.inertia_)\n",
    "    \n",
    "fig, ax = plt.subplots(figsize=(12, 8))\n",
    "\n",
    "ax.plot(range(1, n_clusters), wcss)\n",
    "ax.set_title('Elbow Method')\n",
    "ax.set_xlabel('Number of Clusters')\n",
    "ax.set_ylabel('WCSS')\n",
    "\n",
    "plt.show()\n",
    "#fig.savefig(join(image_dir, \"Elbow.png\"), transparent=False, dpi=80, bbox_inches=\"tight\")"
   ]
  },
  {
   "cell_type": "markdown",
   "metadata": {},
   "source": [
    "### Un coude semble se dessiner à 4 clusters\n",
    "Essai (!) de confirmation avec la silouhette"
   ]
  },
  {
   "cell_type": "code",
   "execution_count": 86,
   "metadata": {},
   "outputs": [
    {
     "name": "stdout",
     "output_type": "stream",
     "text": [
      "For n_clusters = 3, the average silhouette_score is : 0.2574994990197603\n",
      "For n_clusters = 4, the average silhouette_score is : 0.259246787279798\n",
      "For n_clusters = 5, the average silhouette_score is : 0.22357876781740818\n"
     ]
    },
    {
     "data": {
      "image/png": "[encoded data removed]",
      "text/plain": [
       "<Figure size 864x576 with 1 Axes>"
      ]
     },
     "metadata": {
      "needs_background": "light"
     },
     "output_type": "display_data"
    },
    {
     "data": {
      "image/png": "[encoded data removed]",
      "text/plain": [
       "<Figure size 864x576 with 1 Axes>"
      ]
     },
     "metadata": {
      "needs_background": "light"
     },
     "output_type": "display_data"
    },
    {
     "data": {
      "image/png": "[encoded data removed]",
      "text/plain": [
       "<Figure size 864x576 with 1 Axes>"
      ]
     },
     "metadata": {
      "needs_background": "light"
     },
     "output_type": "display_data"
    },
    {
     "data": {
      "application/javascript": [
       "$(document).ready(\n",
       "    function() {\n",
       "        function appendUniqueDiv(){\n",
       "            // append a div with our uuid so we can check that it's already\n",
       "            // been sent and avoid duplicates on page reload\n",
       "            var notifiedDiv = document.createElement(\"div\")\n",
       "            notifiedDiv.id = \"fbb396a7-1947-41ea-8678-dc603e0a6601\"\n",
       "            element.append(notifiedDiv)\n",
       "        }\n",
       "\n",
       "        // only send notifications if the pageload is complete; this will\n",
       "        // help stop extra notifications when a saved notebook is loaded,\n",
       "        // which during testing gives us state \"interactive\", not \"complete\"\n",
       "        if (document.readyState === 'complete') {\n",
       "            // check for the div that signifies that the notification\n",
       "            // was already sent\n",
       "            if (document.getElementById(\"fbb396a7-1947-41ea-8678-dc603e0a6601\") === null) {\n",
       "                var notificationPayload = {\"requireInteraction\": false, \"icon\": \"/static/base/images/favicon.ico\", \"body\": \"Silhouette termin\\u00e9e\"};\n",
       "                if (Notification.permission !== 'denied') {\n",
       "                    if (Notification.permission !== 'granted') { \n",
       "                        Notification.requestPermission(function (permission) {\n",
       "                            if(!('permission' in Notification)) {\n",
       "                                Notification.permission = permission\n",
       "                            }\n",
       "                        })\n",
       "                    }\n",
       "                    if (Notification.permission === 'granted') {\n",
       "                    var notification = new Notification(\"Jupyter Notebook\", notificationPayload)\n",
       "                    appendUniqueDiv()\n",
       "                    notification.onclick = function () {\n",
       "                        window.focus();\n",
       "                        this.close();\n",
       "                        };\n",
       "                    } \n",
       "                }     \n",
       "            }\n",
       "        }\n",
       "    }\n",
       ")\n"
      ],
      "text/plain": [
       "<IPython.core.display.Javascript object>"
      ]
     },
     "metadata": {},
     "output_type": "display_data"
    }
   ],
   "source": [
    "%%notify -m \"Silhouette terminée\"\n",
    "\n",
    "range_n_clusters = [3, 4, 5]\n",
    "\n",
    "for n_clusters in range_n_clusters:\n",
    "    \n",
    "    fig, ax = plt.subplots(figsize=(12, 8))\n",
    "    \n",
    "    # The silhouette coefficient can range from -1, 1\n",
    "    \n",
    "    ax.set_xlim([-0.1, 1])\n",
    "    \n",
    "    # The (n_clusters+1)*10 is for inserting blank space between silhouette\n",
    "    # plots of individual clusters, to demarcate them clearly.\n",
    "    ax.set_ylim([0, len(X_st) + (n_clusters + 1) * 10])\n",
    "    \n",
    "    clusterer = MiniBatchKMeans(n_clusters=n_clusters, \n",
    "                                init = \"k-means++\", \n",
    "                                max_iter = 300, \n",
    "                                n_init = 10, \n",
    "                                batch_size=100)\n",
    "    \n",
    "    cluster_labels = clusterer.fit_predict(X_st)\n",
    "\n",
    "    silhouette_avg = silhouette_score(X_st, cluster_labels)\n",
    "    print(f\"For {n_clusters = }, the average silhouette_score is : {silhouette_avg}\")\n",
    "    \n",
    "    # Compute the silhouette scores for each sample\n",
    "    sample_silhouette_values = silhouette_samples(X_st, cluster_labels)\n",
    "\n",
    "    y_lower = 10\n",
    "    for i in range(n_clusters):\n",
    "        # Aggregate the silhouette scores for samples belonging to\n",
    "        # cluster i, and sort them\n",
    "        ith_cluster_silhouette_values = \\\n",
    "            sample_silhouette_values[cluster_labels == i]\n",
    "\n",
    "        ith_cluster_silhouette_values.sort()\n",
    "\n",
    "        size_cluster_i = ith_cluster_silhouette_values.shape[0]\n",
    "        y_upper = y_lower + size_cluster_i\n",
    "\n",
    "        color = cm.nipy_spectral(float(i) / n_clusters)\n",
    "        ax.fill_betweenx(np.arange(y_lower, y_upper),\n",
    "                          0, ith_cluster_silhouette_values,\n",
    "                          facecolor=color, edgecolor=color, alpha=0.7)\n",
    "\n",
    "        # Label the silhouette plots with their cluster numbers at the middle\n",
    "        ax.text(-0.05, y_lower + 0.5 * size_cluster_i, str(i))\n",
    "\n",
    "        # Compute the new y_lower for next plot\n",
    "        y_lower = y_upper + 10  # 10 for the 0 samples\n",
    "\n",
    "    ax.set_title(\"The silhouette plot for the various clusters.\")\n",
    "    ax.set_xlabel(\"The silhouette coefficient values\")\n",
    "    ax.set_ylabel(\"Cluster label\")\n",
    "\n",
    "    # The vertical line for average silhouette score of all the values\n",
    "    ax.axvline(x=silhouette_avg, color=\"red\", linestyle=\"--\")\n",
    "\n",
    "    ax.set_yticks([])  # Clear the yaxis labels / ticks\n",
    "    ax.set_xticks([-0.4, -0.2, -0.1, 0, 0.2, 0.4, 0.6, 0.8, 1])\n",
    "\n",
    "plt.show()\n",
    "fig.savefig(join(image_dir, \"silhouette.png\"), transparent=False, dpi=80, bbox_inches=\"tight\")"
   ]
  },
  {
   "cell_type": "markdown",
   "metadata": {},
   "source": [
    "### On garde le nombre de 4 clusters"
   ]
  },
  {
   "cell_type": "markdown",
   "metadata": {},
   "source": [
    "### K-means à 4 clusters"
   ]
  },
  {
   "cell_type": "code",
   "execution_count": 182,
   "metadata": {},
   "outputs": [
    {
     "data": {
      "application/javascript": [
       "$(document).ready(\n",
       "    function() {\n",
       "        function appendUniqueDiv(){\n",
       "            // append a div with our uuid so we can check that it's already\n",
       "            // been sent and avoid duplicates on page reload\n",
       "            var notifiedDiv = document.createElement(\"div\")\n",
       "            notifiedDiv.id = \"9fe74bb8-90f3-464b-ab8a-aae1dc0c4084\"\n",
       "            element.append(notifiedDiv)\n",
       "        }\n",
       "\n",
       "        // only send notifications if the pageload is complete; this will\n",
       "        // help stop extra notifications when a saved notebook is loaded,\n",
       "        // which during testing gives us state \"interactive\", not \"complete\"\n",
       "        if (document.readyState === 'complete') {\n",
       "            // check for the div that signifies that the notification\n",
       "            // was already sent\n",
       "            if (document.getElementById(\"9fe74bb8-90f3-464b-ab8a-aae1dc0c4084\") === null) {\n",
       "                var notificationPayload = {\"requireInteraction\": false, \"icon\": \"/static/base/images/favicon.ico\", \"body\": \"4-means termin\\u00e9\"};\n",
       "                if (Notification.permission !== 'denied') {\n",
       "                    if (Notification.permission !== 'granted') { \n",
       "                        Notification.requestPermission(function (permission) {\n",
       "                            if(!('permission' in Notification)) {\n",
       "                                Notification.permission = permission\n",
       "                            }\n",
       "                        })\n",
       "                    }\n",
       "                    if (Notification.permission === 'granted') {\n",
       "                    var notification = new Notification(\"Jupyter Notebook\", notificationPayload)\n",
       "                    appendUniqueDiv()\n",
       "                    notification.onclick = function () {\n",
       "                        window.focus();\n",
       "                        this.close();\n",
       "                        };\n",
       "                    } \n",
       "                }     \n",
       "            }\n",
       "        }\n",
       "    }\n",
       ")\n"
      ],
      "text/plain": [
       "<IPython.core.display.Javascript object>"
      ]
     },
     "metadata": {},
     "output_type": "display_data"
    }
   ],
   "source": [
    "%%notify -m \"4-means terminé\"\n",
    "\n",
    "kmeans = KMeans(n_clusters=4, init=\"k-means++\", max_iter=100, n_init=10)\n",
    "kmeans.fit(X_st)\n",
    "y_kmeans = kmeans.predict(X_st)"
   ]
  },
  {
   "cell_type": "code",
   "execution_count": 88,
   "metadata": {},
   "outputs": [
    {
     "data": {
      "text/plain": [
       "array([[-1.78191441,  3.48129058,  0.06399658,  0.04856742],\n",
       "       [ 0.02224289, -0.11634946,  0.12473447, -1.35360123],\n",
       "       [ 0.15019639, -0.1308083 , -1.02812353,  0.35632745],\n",
       "       [ 0.02783435, -0.13991497,  0.7474035 ,  0.5630503 ]])"
      ]
     },
     "execution_count": 88,
     "metadata": {},
     "output_type": "execute_result"
    }
   ],
   "source": [
    "centroids = kmeans.cluster_centers_\n",
    "centroids"
   ]
  },
  {
   "cell_type": "markdown",
   "metadata": {},
   "source": [
    "### Coordonnées des centroïdes"
   ]
  },
  {
   "cell_type": "code",
   "execution_count": 89,
   "metadata": {},
   "outputs": [
    {
     "data": {
      "text/html": [
       "<div>\n",
       "<style scoped>\n",
       "    .dataframe tbody tr th:only-of-type {\n",
       "        vertical-align: middle;\n",
       "    }\n",
       "\n",
       "    .dataframe tbody tr th {\n",
       "        vertical-align: top;\n",
       "    }\n",
       "\n",
       "    .dataframe thead th {\n",
       "        text-align: right;\n",
       "    }\n",
       "</style>\n",
       "<table border=\"1\" class=\"dataframe\">\n",
       "  <thead>\n",
       "    <tr style=\"text-align: right;\">\n",
       "      <th></th>\n",
       "      <th>Lat</th>\n",
       "      <th>Lon</th>\n",
       "      <th>Weekday</th>\n",
       "      <th>Hour</th>\n",
       "    </tr>\n",
       "  </thead>\n",
       "  <tbody>\n",
       "    <tr>\n",
       "      <th>0</th>\n",
       "      <td>40.667269</td>\n",
       "      <td>-73.776285</td>\n",
       "      <td>3.085612</td>\n",
       "      <td>14.511185</td>\n",
       "    </tr>\n",
       "    <tr>\n",
       "      <th>1</th>\n",
       "      <td>40.740238</td>\n",
       "      <td>-73.979598</td>\n",
       "      <td>3.199607</td>\n",
       "      <td>6.172363</td>\n",
       "    </tr>\n",
       "    <tr>\n",
       "      <th>2</th>\n",
       "      <td>40.745413</td>\n",
       "      <td>-73.980415</td>\n",
       "      <td>1.035871</td>\n",
       "      <td>16.341461</td>\n",
       "    </tr>\n",
       "    <tr>\n",
       "      <th>3</th>\n",
       "      <td>40.740464</td>\n",
       "      <td>-73.980929</td>\n",
       "      <td>4.368261</td>\n",
       "      <td>17.570860</td>\n",
       "    </tr>\n",
       "  </tbody>\n",
       "</table>\n",
       "</div>"
      ],
      "text/plain": [
       "         Lat        Lon   Weekday       Hour\n",
       "0  40.667269 -73.776285  3.085612  14.511185\n",
       "1  40.740238 -73.979598  3.199607   6.172363\n",
       "2  40.745413 -73.980415  1.035871  16.341461\n",
       "3  40.740464 -73.980929  4.368261  17.570860"
      ]
     },
     "execution_count": 89,
     "metadata": {},
     "output_type": "execute_result"
    }
   ],
   "source": [
    "centroids = pd.DataFrame(sc_X.inverse_transform(centroids), columns=columns)\n",
    "centroids"
   ]
  },
  {
   "cell_type": "code",
   "execution_count": 90,
   "metadata": {},
   "outputs": [],
   "source": [
    "X[\"4_means\"] = y_kmeans"
   ]
  },
  {
   "cell_type": "code",
   "execution_count": 91,
   "metadata": {},
   "outputs": [
    {
     "data": {
      "text/html": [
       "<div>\n",
       "<style scoped>\n",
       "    .dataframe tbody tr th:only-of-type {\n",
       "        vertical-align: middle;\n",
       "    }\n",
       "\n",
       "    .dataframe tbody tr th {\n",
       "        vertical-align: top;\n",
       "    }\n",
       "\n",
       "    .dataframe thead th {\n",
       "        text-align: right;\n",
       "    }\n",
       "</style>\n",
       "<table border=\"1\" class=\"dataframe\">\n",
       "  <thead>\n",
       "    <tr style=\"text-align: right;\">\n",
       "      <th></th>\n",
       "      <th>Date/Time</th>\n",
       "      <th>Lat</th>\n",
       "      <th>Lon</th>\n",
       "      <th>Base</th>\n",
       "      <th>Month</th>\n",
       "      <th>Weekday</th>\n",
       "      <th>Hour</th>\n",
       "      <th>Location</th>\n",
       "      <th>4_means</th>\n",
       "    </tr>\n",
       "  </thead>\n",
       "  <tbody>\n",
       "    <tr>\n",
       "      <th>0</th>\n",
       "      <td>2014-09-20 18:14:00</td>\n",
       "      <td>40.7516</td>\n",
       "      <td>-73.9753</td>\n",
       "      <td>B02617</td>\n",
       "      <td>9</td>\n",
       "      <td>5</td>\n",
       "      <td>18</td>\n",
       "      <td>[40.7516, -73.9753]</td>\n",
       "      <td>3</td>\n",
       "    </tr>\n",
       "    <tr>\n",
       "      <th>1</th>\n",
       "      <td>2014-08-15 19:45:00</td>\n",
       "      <td>40.736</td>\n",
       "      <td>-73.8605</td>\n",
       "      <td>B02617</td>\n",
       "      <td>8</td>\n",
       "      <td>4</td>\n",
       "      <td>19</td>\n",
       "      <td>[40.736, -73.8605]</td>\n",
       "      <td>3</td>\n",
       "    </tr>\n",
       "    <tr>\n",
       "      <th>2</th>\n",
       "      <td>2014-09-12 17:07:00</td>\n",
       "      <td>40.715</td>\n",
       "      <td>-73.99</td>\n",
       "      <td>B02682</td>\n",
       "      <td>9</td>\n",
       "      <td>4</td>\n",
       "      <td>17</td>\n",
       "      <td>[40.715, -73.99]</td>\n",
       "      <td>3</td>\n",
       "    </tr>\n",
       "    <tr>\n",
       "      <th>3</th>\n",
       "      <td>2014-05-08 19:26:00</td>\n",
       "      <td>40.7793</td>\n",
       "      <td>-73.9615</td>\n",
       "      <td>B02617</td>\n",
       "      <td>5</td>\n",
       "      <td>3</td>\n",
       "      <td>19</td>\n",
       "      <td>[40.7793, -73.9615]</td>\n",
       "      <td>3</td>\n",
       "    </tr>\n",
       "    <tr>\n",
       "      <th>4</th>\n",
       "      <td>2014-07-02 20:08:00</td>\n",
       "      <td>40.7435</td>\n",
       "      <td>-73.9727</td>\n",
       "      <td>B02598</td>\n",
       "      <td>7</td>\n",
       "      <td>2</td>\n",
       "      <td>20</td>\n",
       "      <td>[40.7435, -73.9727]</td>\n",
       "      <td>2</td>\n",
       "    </tr>\n",
       "  </tbody>\n",
       "</table>\n",
       "</div>"
      ],
      "text/plain": [
       "            Date/Time      Lat      Lon    Base Month Weekday Hour  \\\n",
       "0 2014-09-20 18:14:00  40.7516 -73.9753  B02617     9       5   18   \n",
       "1 2014-08-15 19:45:00   40.736 -73.8605  B02617     8       4   19   \n",
       "2 2014-09-12 17:07:00   40.715   -73.99  B02682     9       4   17   \n",
       "3 2014-05-08 19:26:00  40.7793 -73.9615  B02617     5       3   19   \n",
       "4 2014-07-02 20:08:00  40.7435 -73.9727  B02598     7       2   20   \n",
       "\n",
       "              Location  4_means  \n",
       "0  [40.7516, -73.9753]        3  \n",
       "1   [40.736, -73.8605]        3  \n",
       "2     [40.715, -73.99]        3  \n",
       "3  [40.7793, -73.9615]        3  \n",
       "4  [40.7435, -73.9727]        2  "
      ]
     },
     "execution_count": 91,
     "metadata": {},
     "output_type": "execute_result"
    }
   ],
   "source": [
    "X.head()"
   ]
  },
  {
   "cell_type": "markdown",
   "metadata": {},
   "source": [
    "### Sampling pour les visualisations\n",
    "\n",
    "stockage des images et \"textification\" du code pour permettre un affichade sur github des grapg Plotly"
   ]
  },
  {
   "cell_type": "code",
   "execution_count": 92,
   "metadata": {},
   "outputs": [],
   "source": [
    "X_sample = X.sample(20000)"
   ]
  },
  {
   "cell_type": "raw",
   "metadata": {},
   "source": [
    "fig = px.scatter_mapbox(X_sample, lat=\"Lat\", lon=\"Lon\", color=\"4_means\", height=400)\n",
    "fig.update_layout(mapbox_style=\"open-street-map\")\n",
    "fig.update_layout(margin={\"r\":0,\"t\":0,\"l\":0,\"b\":0})\n",
    "fig.show()\n",
    "#fig.write_image(join(image_dir, \"4-means_pickup.png\"))"
   ]
  },
  {
   "cell_type": "markdown",
   "metadata": {},
   "source": [
    "4-means clusters :\n",
    "![alt tex](images/4-means_pickup.png)"
   ]
  },
  {
   "cell_type": "markdown",
   "metadata": {},
   "source": [
    "### discrétisation des heures par quartiles pour une meilleure lisibilité"
   ]
  },
  {
   "cell_type": "code",
   "execution_count": 42,
   "metadata": {},
   "outputs": [],
   "source": [
    "hour_quantiles = X_sample[\"Hour\"].quantile(quantile_list)\n",
    "hour_bins_labels = quantile_labels(hour_quantiles)\n",
    "X_sample[\"Hour\"] = pd.qcut(X_sample[\"Hour\"], q=quantile_list, labels=hour_bins_labels)"
   ]
  },
  {
   "cell_type": "code",
   "execution_count": 100,
   "metadata": {},
   "outputs": [
    {
     "data": {
      "text/html": [
       "<div>\n",
       "<style scoped>\n",
       "    .dataframe tbody tr th:only-of-type {\n",
       "        vertical-align: middle;\n",
       "    }\n",
       "\n",
       "    .dataframe tbody tr th {\n",
       "        vertical-align: top;\n",
       "    }\n",
       "\n",
       "    .dataframe thead th {\n",
       "        text-align: right;\n",
       "    }\n",
       "</style>\n",
       "<table border=\"1\" class=\"dataframe\">\n",
       "  <thead>\n",
       "    <tr style=\"text-align: right;\">\n",
       "      <th></th>\n",
       "      <th>Date/Time</th>\n",
       "      <th>Lat</th>\n",
       "      <th>Lon</th>\n",
       "      <th>Base</th>\n",
       "      <th>Month</th>\n",
       "      <th>Weekday</th>\n",
       "      <th>Hour</th>\n",
       "      <th>Location</th>\n",
       "      <th>4_means</th>\n",
       "    </tr>\n",
       "  </thead>\n",
       "  <tbody>\n",
       "    <tr>\n",
       "      <th>13142</th>\n",
       "      <td>2014-07-03 11:46:00</td>\n",
       "      <td>40.7569</td>\n",
       "      <td>-73.961</td>\n",
       "      <td>B02598</td>\n",
       "      <td>7</td>\n",
       "      <td>3</td>\n",
       "      <td>10-16</td>\n",
       "      <td>[40.7569, -73.961]</td>\n",
       "      <td>1</td>\n",
       "    </tr>\n",
       "    <tr>\n",
       "      <th>72719</th>\n",
       "      <td>2014-09-06 20:17:00</td>\n",
       "      <td>40.7425</td>\n",
       "      <td>-73.9781</td>\n",
       "      <td>B02598</td>\n",
       "      <td>9</td>\n",
       "      <td>5</td>\n",
       "      <td>19-23</td>\n",
       "      <td>[40.7425, -73.9781]</td>\n",
       "      <td>3</td>\n",
       "    </tr>\n",
       "    <tr>\n",
       "      <th>13023</th>\n",
       "      <td>2014-07-17 03:16:00</td>\n",
       "      <td>40.7563</td>\n",
       "      <td>-73.9831</td>\n",
       "      <td>B02617</td>\n",
       "      <td>7</td>\n",
       "      <td>3</td>\n",
       "      <td>0-10</td>\n",
       "      <td>[40.7563, -73.9831]</td>\n",
       "      <td>1</td>\n",
       "    </tr>\n",
       "    <tr>\n",
       "      <th>89544</th>\n",
       "      <td>2014-05-17 20:06:00</td>\n",
       "      <td>40.7833</td>\n",
       "      <td>-73.9471</td>\n",
       "      <td>B02598</td>\n",
       "      <td>5</td>\n",
       "      <td>5</td>\n",
       "      <td>19-23</td>\n",
       "      <td>[40.7833, -73.9471]</td>\n",
       "      <td>3</td>\n",
       "    </tr>\n",
       "    <tr>\n",
       "      <th>89432</th>\n",
       "      <td>2014-05-20 17:48:00</td>\n",
       "      <td>40.7616</td>\n",
       "      <td>-73.9845</td>\n",
       "      <td>B02598</td>\n",
       "      <td>5</td>\n",
       "      <td>1</td>\n",
       "      <td>16-19</td>\n",
       "      <td>[40.7616, -73.9845]</td>\n",
       "      <td>2</td>\n",
       "    </tr>\n",
       "  </tbody>\n",
       "</table>\n",
       "</div>"
      ],
      "text/plain": [
       "                Date/Time      Lat      Lon    Base Month Weekday   Hour  \\\n",
       "13142 2014-07-03 11:46:00  40.7569  -73.961  B02598     7       3  10-16   \n",
       "72719 2014-09-06 20:17:00  40.7425 -73.9781  B02598     9       5  19-23   \n",
       "13023 2014-07-17 03:16:00  40.7563 -73.9831  B02617     7       3   0-10   \n",
       "89544 2014-05-17 20:06:00  40.7833 -73.9471  B02598     5       5  19-23   \n",
       "89432 2014-05-20 17:48:00  40.7616 -73.9845  B02598     5       1  16-19   \n",
       "\n",
       "                  Location  4_means  \n",
       "13142   [40.7569, -73.961]        1  \n",
       "72719  [40.7425, -73.9781]        3  \n",
       "13023  [40.7563, -73.9831]        1  \n",
       "89544  [40.7833, -73.9471]        3  \n",
       "89432  [40.7616, -73.9845]        2  "
      ]
     },
     "execution_count": 100,
     "metadata": {},
     "output_type": "execute_result"
    }
   ],
   "source": [
    "X_sample.head()"
   ]
  },
  {
   "cell_type": "raw",
   "metadata": {},
   "source": [
    "fig = px.scatter_mapbox(X_sample, lat=\"Lat\", lon=\"Lon\", color=\"Hour\", height=400)\n",
    "fig.update_layout(mapbox_style=\"open-street-map\")\n",
    "fig.update_layout(margin={\"r\":0,\"t\":0,\"l\":0,\"b\":0})\n",
    "fig.show()\n",
    "#fig.write_image(join(image_dir, \"4-means_pickup_by_hours.png\"))"
   ]
  },
  {
   "cell_type": "markdown",
   "metadata": {},
   "source": [
    "4-means clusters by hour\n",
    "![alt text](images/4-means_pickup_by_hours.png)"
   ]
  },
  {
   "cell_type": "markdown",
   "metadata": {},
   "source": [
    "## DBSCAN\n",
    "### Recherche d'un epsilon"
   ]
  },
  {
   "cell_type": "code",
   "execution_count": 194,
   "metadata": {},
   "outputs": [],
   "source": [
    "def plot_epsilon_elbow(X):\n",
    "    nearest = NearestNeighbors(n_neighbors=2, n_jobs=-1)\n",
    "    neighbours = nearest.fit(X)\n",
    "\n",
    "    dist, ind = neighbours.kneighbors(X)\n",
    "\n",
    "    dist = np.sort(dist, axis=0)\n",
    "    dist = dist[:,1]\n",
    "\n",
    "    fig, ax = plt.subplots(figsize=(12, 8))\n",
    "    ax.plot(dist)\n",
    "    ax.set_title(\"DBSCAN epsilon elbow\")\n",
    "    plt.show()"
   ]
  },
  {
   "cell_type": "code",
   "execution_count": 195,
   "metadata": {},
   "outputs": [
    {
     "data": {
      "image/png": "[encoded data removed]",
      "text/plain": [
       "<Figure size 864x576 with 1 Axes>"
      ]
     },
     "metadata": {
      "needs_background": "light"
     },
     "output_type": "display_data"
    }
   ],
   "source": [
    "plot_epsilon_elbow(X_st)"
   ]
  },
  {
   "cell_type": "markdown",
   "metadata": {},
   "source": [
    "##### On teste epsilon = 0.5"
   ]
  },
  {
   "cell_type": "code",
   "execution_count": 168,
   "metadata": {},
   "outputs": [
    {
     "data": {
      "text/plain": [
       "6"
      ]
     },
     "execution_count": 168,
     "metadata": {},
     "output_type": "execute_result"
    }
   ],
   "source": [
    "%%notify -m \"DBSCAN terminé\"\n",
    "\n",
    "dbscan = DBSCAN(eps=0.55, min_samples=60)\n",
    "y_dbscan = dbscan.fit_predict(X_st)\n",
    "\n",
    "print(len(np.unique(dbscan.labels_)))\n",
    "\n",
    "X[\"dbscan\"] = y_dbscan"
   ]
  },
  {
   "cell_type": "code",
   "execution_count": 169,
   "metadata": {},
   "outputs": [
    {
     "data": {
      "text/html": [
       "<div>\n",
       "<style scoped>\n",
       "    .dataframe tbody tr th:only-of-type {\n",
       "        vertical-align: middle;\n",
       "    }\n",
       "\n",
       "    .dataframe tbody tr th {\n",
       "        vertical-align: top;\n",
       "    }\n",
       "\n",
       "    .dataframe thead th {\n",
       "        text-align: right;\n",
       "    }\n",
       "</style>\n",
       "<table border=\"1\" class=\"dataframe\">\n",
       "  <thead>\n",
       "    <tr style=\"text-align: right;\">\n",
       "      <th></th>\n",
       "      <th>Date/Time</th>\n",
       "      <th>Lat</th>\n",
       "      <th>Lon</th>\n",
       "      <th>Base</th>\n",
       "      <th>Month</th>\n",
       "      <th>Weekday</th>\n",
       "      <th>Hour</th>\n",
       "      <th>Location</th>\n",
       "      <th>dbscan</th>\n",
       "    </tr>\n",
       "  </thead>\n",
       "  <tbody>\n",
       "    <tr>\n",
       "      <th>0</th>\n",
       "      <td>2014-09-08 22:48:00</td>\n",
       "      <td>40.7217</td>\n",
       "      <td>-73.989</td>\n",
       "      <td>B02598</td>\n",
       "      <td>9</td>\n",
       "      <td>0</td>\n",
       "      <td>22</td>\n",
       "      <td>[40.7217, -73.98899999999999]</td>\n",
       "      <td>0</td>\n",
       "    </tr>\n",
       "    <tr>\n",
       "      <th>1</th>\n",
       "      <td>2014-06-14 23:07:00</td>\n",
       "      <td>40.7738</td>\n",
       "      <td>-73.8739</td>\n",
       "      <td>B02598</td>\n",
       "      <td>6</td>\n",
       "      <td>5</td>\n",
       "      <td>23</td>\n",
       "      <td>[40.7738, -73.8739]</td>\n",
       "      <td>0</td>\n",
       "    </tr>\n",
       "    <tr>\n",
       "      <th>2</th>\n",
       "      <td>2014-07-02 20:42:00</td>\n",
       "      <td>40.7341</td>\n",
       "      <td>-74.0031</td>\n",
       "      <td>B02617</td>\n",
       "      <td>7</td>\n",
       "      <td>2</td>\n",
       "      <td>20</td>\n",
       "      <td>[40.7341, -74.0031]</td>\n",
       "      <td>0</td>\n",
       "    </tr>\n",
       "    <tr>\n",
       "      <th>3</th>\n",
       "      <td>2014-08-04 08:37:00</td>\n",
       "      <td>40.8001</td>\n",
       "      <td>-74.2543</td>\n",
       "      <td>B02598</td>\n",
       "      <td>8</td>\n",
       "      <td>0</td>\n",
       "      <td>8</td>\n",
       "      <td>[40.8001, -74.2543]</td>\n",
       "      <td>-1</td>\n",
       "    </tr>\n",
       "    <tr>\n",
       "      <th>4</th>\n",
       "      <td>2014-09-17 19:30:00</td>\n",
       "      <td>40.8024</td>\n",
       "      <td>-73.9506</td>\n",
       "      <td>B02682</td>\n",
       "      <td>9</td>\n",
       "      <td>2</td>\n",
       "      <td>19</td>\n",
       "      <td>[40.8024, -73.9506]</td>\n",
       "      <td>0</td>\n",
       "    </tr>\n",
       "  </tbody>\n",
       "</table>\n",
       "</div>"
      ],
      "text/plain": [
       "            Date/Time      Lat      Lon    Base Month Weekday Hour  \\\n",
       "0 2014-09-08 22:48:00  40.7217  -73.989  B02598     9       0   22   \n",
       "1 2014-06-14 23:07:00  40.7738 -73.8739  B02598     6       5   23   \n",
       "2 2014-07-02 20:42:00  40.7341 -74.0031  B02617     7       2   20   \n",
       "3 2014-08-04 08:37:00  40.8001 -74.2543  B02598     8       0    8   \n",
       "4 2014-09-17 19:30:00  40.8024 -73.9506  B02682     9       2   19   \n",
       "\n",
       "                        Location  dbscan  \n",
       "0  [40.7217, -73.98899999999999]       0  \n",
       "1            [40.7738, -73.8739]       0  \n",
       "2            [40.7341, -74.0031]       0  \n",
       "3            [40.8001, -74.2543]      -1  \n",
       "4            [40.8024, -73.9506]       0  "
      ]
     },
     "execution_count": 169,
     "metadata": {},
     "output_type": "execute_result"
    }
   ],
   "source": [
    "X.head()"
   ]
  },
  {
   "cell_type": "code",
   "execution_count": 171,
   "metadata": {},
   "outputs": [],
   "source": [
    "X_sample = X.sample(20000)\n",
    "print(X_sample[\"dbscan\"].nunique())\n",
    "hour_quantiles = X_sample[\"Hour\"].quantile(quantile_list)\n",
    "hour_bins_labels = quantile_labels(hour_quantiles)\n",
    "X_sample[\"Hour\"] = pd.qcut(X_sample[\"Hour\"], q=quantile_list, labels=hour_bins_labels)"
   ]
  },
  {
   "cell_type": "raw",
   "metadata": {},
   "source": [
    "fig = px.scatter_mapbox(X_sample, lat=\"Lat\", lon=\"Lon\", color=\"dbscan\", height=400)\n",
    "fig.update_layout(mapbox_style=\"open-street-map\")\n",
    "fig.update_layout(margin={\"r\":0,\"t\":0,\"l\":0,\"b\":0})\n",
    "fig.show()\n",
    "fig.write_image(join(image_dir, \"dbscan_pickup.png\"))"
   ]
  },
  {
   "cell_type": "markdown",
   "metadata": {},
   "source": [
    "DBSCAN clusters\n",
    "![alt text](images/dbscan_pickup_clusters.png)"
   ]
  },
  {
   "cell_type": "raw",
   "metadata": {},
   "source": [
    "fig = px.scatter_mapbox(X_sample[X_sample[\"dbscan\"] == -1], lat=\"Lat\", lon=\"Lon\", color=\"Hour\", height=400)\n",
    "fig.update_layout(mapbox_style=\"open-street-map\")\n",
    "fig.update_layout(margin={\"r\":0,\"t\":0,\"l\":0,\"b\":0})\n",
    "fig.show()\n",
    "fig.write_image(join(image_dir, \"dbscan_pickup_cluster_out.png\"))"
   ]
  },
  {
   "cell_type": "markdown",
   "metadata": {},
   "source": [
    "DBSCAN cluster 1\n",
    "![alt text](images/dbscan_pickup_cluster_1.png)\n",
    "DBSCAN cluster 2\n",
    "![alt text](images/dbscan_pickup_cluster_2.png)\n",
    "DBSCAN cluster 3\n",
    "![alt text](images/dbscan_pickup_cluster_3.png)\n",
    "DBSCAN cluster 4\n",
    "![alt text](images/dbscan_pickup_cluster_4.png)\n",
    "DBSCAN cluster outliers\n",
    "![alt text](images/dbscan_pickup_cluster_out.png)"
   ]
  },
  {
   "cell_type": "markdown",
   "metadata": {},
   "source": [
    "### Restriction au cluster 0"
   ]
  },
  {
   "cell_type": "code",
   "execution_count": 198,
   "metadata": {},
   "outputs": [],
   "source": [
    "X_0 = X[X[\"dbscan\"] == 0].drop(\"dbscan\", axis=1)"
   ]
  },
  {
   "cell_type": "code",
   "execution_count": 199,
   "metadata": {},
   "outputs": [
    {
     "data": {
      "text/plain": [
       "(92676, 8)"
      ]
     },
     "execution_count": 199,
     "metadata": {},
     "output_type": "execute_result"
    }
   ],
   "source": [
    "X_0.shape"
   ]
  },
  {
   "cell_type": "code",
   "execution_count": 200,
   "metadata": {},
   "outputs": [
    {
     "data": {
      "text/html": [
       "<div>\n",
       "<style scoped>\n",
       "    .dataframe tbody tr th:only-of-type {\n",
       "        vertical-align: middle;\n",
       "    }\n",
       "\n",
       "    .dataframe tbody tr th {\n",
       "        vertical-align: top;\n",
       "    }\n",
       "\n",
       "    .dataframe thead th {\n",
       "        text-align: right;\n",
       "    }\n",
       "</style>\n",
       "<table border=\"1\" class=\"dataframe\">\n",
       "  <thead>\n",
       "    <tr style=\"text-align: right;\">\n",
       "      <th></th>\n",
       "      <th>Date/Time</th>\n",
       "      <th>Lat</th>\n",
       "      <th>Lon</th>\n",
       "      <th>Base</th>\n",
       "      <th>Month</th>\n",
       "      <th>Weekday</th>\n",
       "      <th>Hour</th>\n",
       "      <th>Location</th>\n",
       "    </tr>\n",
       "  </thead>\n",
       "  <tbody>\n",
       "    <tr>\n",
       "      <th>0</th>\n",
       "      <td>2014-09-08 22:48:00</td>\n",
       "      <td>40.7217</td>\n",
       "      <td>-73.989</td>\n",
       "      <td>B02598</td>\n",
       "      <td>9</td>\n",
       "      <td>0</td>\n",
       "      <td>22</td>\n",
       "      <td>[40.7217, -73.98899999999999]</td>\n",
       "    </tr>\n",
       "    <tr>\n",
       "      <th>1</th>\n",
       "      <td>2014-06-14 23:07:00</td>\n",
       "      <td>40.7738</td>\n",
       "      <td>-73.8739</td>\n",
       "      <td>B02598</td>\n",
       "      <td>6</td>\n",
       "      <td>5</td>\n",
       "      <td>23</td>\n",
       "      <td>[40.7738, -73.8739]</td>\n",
       "    </tr>\n",
       "    <tr>\n",
       "      <th>2</th>\n",
       "      <td>2014-07-02 20:42:00</td>\n",
       "      <td>40.7341</td>\n",
       "      <td>-74.0031</td>\n",
       "      <td>B02617</td>\n",
       "      <td>7</td>\n",
       "      <td>2</td>\n",
       "      <td>20</td>\n",
       "      <td>[40.7341, -74.0031]</td>\n",
       "    </tr>\n",
       "    <tr>\n",
       "      <th>4</th>\n",
       "      <td>2014-09-17 19:30:00</td>\n",
       "      <td>40.8024</td>\n",
       "      <td>-73.9506</td>\n",
       "      <td>B02682</td>\n",
       "      <td>9</td>\n",
       "      <td>2</td>\n",
       "      <td>19</td>\n",
       "      <td>[40.8024, -73.9506]</td>\n",
       "    </tr>\n",
       "    <tr>\n",
       "      <th>5</th>\n",
       "      <td>2014-07-02 01:31:00</td>\n",
       "      <td>40.6813</td>\n",
       "      <td>-74.0075</td>\n",
       "      <td>B02682</td>\n",
       "      <td>7</td>\n",
       "      <td>2</td>\n",
       "      <td>1</td>\n",
       "      <td>[40.6813, -74.0075]</td>\n",
       "    </tr>\n",
       "  </tbody>\n",
       "</table>\n",
       "</div>"
      ],
      "text/plain": [
       "            Date/Time      Lat      Lon    Base Month Weekday Hour  \\\n",
       "0 2014-09-08 22:48:00  40.7217  -73.989  B02598     9       0   22   \n",
       "1 2014-06-14 23:07:00  40.7738 -73.8739  B02598     6       5   23   \n",
       "2 2014-07-02 20:42:00  40.7341 -74.0031  B02617     7       2   20   \n",
       "4 2014-09-17 19:30:00  40.8024 -73.9506  B02682     9       2   19   \n",
       "5 2014-07-02 01:31:00  40.6813 -74.0075  B02682     7       2    1   \n",
       "\n",
       "                        Location  \n",
       "0  [40.7217, -73.98899999999999]  \n",
       "1            [40.7738, -73.8739]  \n",
       "2            [40.7341, -74.0031]  \n",
       "4            [40.8024, -73.9506]  \n",
       "5            [40.6813, -74.0075]  "
      ]
     },
     "execution_count": 200,
     "metadata": {},
     "output_type": "execute_result"
    }
   ],
   "source": [
    "X_0.head()"
   ]
  },
  {
   "cell_type": "code",
   "execution_count": 201,
   "metadata": {},
   "outputs": [],
   "source": [
    "X_0_st = sc_X.transform(X_0[columns])"
   ]
  },
  {
   "cell_type": "code",
   "execution_count": 202,
   "metadata": {},
   "outputs": [
    {
     "data": {
      "image/png": "[encoded data removed]",
      "text/plain": [
       "<Figure size 864x576 with 1 Axes>"
      ]
     },
     "metadata": {
      "needs_background": "light"
     },
     "output_type": "display_data"
    }
   ],
   "source": [
    "plot_epsilon_elbow(X_0_st)"
   ]
  },
  {
   "cell_type": "markdown",
   "metadata": {},
   "source": [
    "### epsilon trouvé non concluant dans le clustering"
   ]
  },
  {
   "cell_type": "code",
   "execution_count": 291,
   "metadata": {},
   "outputs": [
    {
     "name": "stdout",
     "output_type": "stream",
     "text": [
      "4\n"
     ]
    },
    {
     "data": {
      "application/javascript": [
       "$(document).ready(\n",
       "    function() {\n",
       "        function appendUniqueDiv(){\n",
       "            // append a div with our uuid so we can check that it's already\n",
       "            // been sent and avoid duplicates on page reload\n",
       "            var notifiedDiv = document.createElement(\"div\")\n",
       "            notifiedDiv.id = \"568e7496-0fff-44ad-91cb-b9e1307a79ff\"\n",
       "            element.append(notifiedDiv)\n",
       "        }\n",
       "\n",
       "        // only send notifications if the pageload is complete; this will\n",
       "        // help stop extra notifications when a saved notebook is loaded,\n",
       "        // which during testing gives us state \"interactive\", not \"complete\"\n",
       "        if (document.readyState === 'complete') {\n",
       "            // check for the div that signifies that the notification\n",
       "            // was already sent\n",
       "            if (document.getElementById(\"568e7496-0fff-44ad-91cb-b9e1307a79ff\") === null) {\n",
       "                var notificationPayload = {\"requireInteraction\": false, \"icon\": \"/static/base/images/favicon.ico\", \"body\": \"DBSCAN termin\\u00e9\"};\n",
       "                if (Notification.permission !== 'denied') {\n",
       "                    if (Notification.permission !== 'granted') { \n",
       "                        Notification.requestPermission(function (permission) {\n",
       "                            if(!('permission' in Notification)) {\n",
       "                                Notification.permission = permission\n",
       "                            }\n",
       "                        })\n",
       "                    }\n",
       "                    if (Notification.permission === 'granted') {\n",
       "                    var notification = new Notification(\"Jupyter Notebook\", notificationPayload)\n",
       "                    appendUniqueDiv()\n",
       "                    notification.onclick = function () {\n",
       "                        window.focus();\n",
       "                        this.close();\n",
       "                        };\n",
       "                    } \n",
       "                }     \n",
       "            }\n",
       "        }\n",
       "    }\n",
       ")\n"
      ],
      "text/plain": [
       "<IPython.core.display.Javascript object>"
      ]
     },
     "metadata": {},
     "output_type": "display_data"
    }
   ],
   "source": [
    "%%notify -m \"DBSCAN terminé\"\n",
    "\n",
    "dbscan = DBSCAN(eps=0.55, min_samples=100)\n",
    "y_dbscan = dbscan.fit_predict(X_0_st)\n",
    "\n",
    "print(len(np.unique(dbscan.labels_)))\n",
    "\n",
    "X_0[\"dbscan\"] = y_dbscan"
   ]
  },
  {
   "cell_type": "code",
   "execution_count": 292,
   "metadata": {},
   "outputs": [
    {
     "name": "stdout",
     "output_type": "stream",
     "text": [
      "4\n"
     ]
    }
   ],
   "source": [
    "X_sample = X_0.sample(20000)\n",
    "print(X_sample[\"dbscan\"].nunique())\n",
    "hour_quantiles = X_sample[\"Hour\"].quantile(quantile_list)\n",
    "hour_bins_labels = quantile_labels(hour_quantiles)\n",
    "X_sample[\"Hour\"] = pd.qcut(X_sample[\"Hour\"], q=quantile_list, labels=hour_bins_labels)"
   ]
  },
  {
   "cell_type": "raw",
   "metadata": {},
   "source": [
    "fig = px.scatter_mapbox(X_sample, lat=\"Lat\", lon=\"Lon\", color=\"dbscan\", height=400)\n",
    "fig.update_layout(mapbox_style=\"open-street-map\")\n",
    "fig.update_layout(margin={\"r\":0,\"t\":0,\"l\":0,\"b\":0})\n",
    "fig.show()\n",
    "#fig.write_image(join(image_dir, \"cluster_0_dbscan_pickup.png\"))"
   ]
  },
  {
   "cell_type": "markdown",
   "metadata": {},
   "source": [
    "DBSCAN cluster 0 restreint\n",
    "![alt text](images/cluster_0_dbscan_pickup.png)"
   ]
  },
  {
   "cell_type": "code",
   "execution_count": null,
   "metadata": {},
   "outputs": [],
   "source": []
  }
 ],
 "metadata": {
  "kernelspec": {
   "display_name": "Python 3",
   "language": "python",
   "name": "python3"
  },
  "language_info": {
   "codemirror_mode": {
    "name": "ipython",
    "version": 3
   },
   "file_extension": ".py",
   "mimetype": "text/x-python",
   "name": "python",
   "nbconvert_exporter": "python",
   "pygments_lexer": "ipython3",
   "version": "3.8.3"
  }
 },
 "nbformat": 4,
 "nbformat_minor": 4
}
